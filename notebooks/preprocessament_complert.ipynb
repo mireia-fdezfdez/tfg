{
 "cells": [
  {
   "cell_type": "markdown",
   "id": "afda12e9",
   "metadata": {},
   "source": [
    "# Creació dataset \n",
    "###  Dataset complert per a la implementació de tècniques d'aprenentatge profund"
   ]
  },
  {
   "cell_type": "code",
   "execution_count": 1,
   "id": "b6ff3f09",
   "metadata": {},
   "outputs": [],
   "source": [
    "\"\"\"\n",
    "Dependencies:\n",
    "numpy\n",
    "pandas\n",
    "\"\"\"\n",
    "import os\n",
    "import numpy as np\n",
    "import pandas as pd"
   ]
  },
  {
   "cell_type": "code",
   "execution_count": 2,
   "id": "c4c89292",
   "metadata": {},
   "outputs": [],
   "source": [
    "# recollim tots els fitxers en un únic llistat\n",
    "escenaris = [file for file in os.scandir(\"Scenarios\")]"
   ]
  },
  {
   "cell_type": "code",
   "execution_count": 3,
   "id": "9c7ebdb6",
   "metadata": {},
   "outputs": [],
   "source": [
    "# inicialització del dataset final\n",
    "final_dataset = pd.DataFrame(columns = [\"Node\", \"NumCont\", \"DURC\", \"ICT\", \"Escenari\"])"
   ]
  },
  {
   "cell_type": "code",
   "execution_count": 4,
   "id": "acab59b9",
   "metadata": {},
   "outputs": [],
   "source": [
    "# llibreria de funcions\n",
    "\n",
    "def find_mean(temps):\n",
    "    \"\"\"Calculates the mean pair value given a list\"\"\"\n",
    "    # If there is no info in the list, then there is no full circle of connections\n",
    "    # and so provisionally, we count as 0 (because we cannot divide by 0 later)\n",
    "    if len(temps) == 0:\n",
    "        return 0\n",
    "    \n",
    "    temps = temps.tolist()\n",
    "    \n",
    "    # Find each pair, compute the time between itemps and return its mean value\n",
    "    t_connected = 0\n",
    "    for i in range(0, len(temps), 2):\n",
    "        inici = temps[i]\n",
    "        final = temps[i+1]\n",
    "        t_connected += (final - inici)\n",
    "        \n",
    "    return t_connected/(len(temps)/2)\n",
    "\n",
    "\n",
    "def mean_btw_conns(temps):\n",
    "    \"\"\"To calculate the mean time between different connections (ICT)\"\"\"\n",
    "    # If the list is even then the last value is a \"down\" item and we take it\n",
    "    # down to not disturbe the calculations\n",
    "    if len(temps)%2 == 0:\n",
    "        temps = temps[:-1]\n",
    "    \n",
    "    # We take down the first item in the list so we have inversed pairs to calculate\n",
    "    # the time mean\n",
    "    temps = temps[1:]\n",
    "    \n",
    "    return find_mean(temps)\n",
    "\n",
    "def mean_conn_duration(temps):\n",
    "    \"\"\"To calculate the mean time of the connections's duration (DURC)\"\"\"\n",
    "    # If the list is not even then the last communication did not conclude\n",
    "    # provisionally, we take it down\n",
    "    if len(temps)%2 != 0:\n",
    "        temps = temps[:-1]\n",
    "    \n",
    "    return find_mean(temps)"
   ]
  },
  {
   "cell_type": "code",
   "execution_count": 14,
   "id": "d0cceb2a",
   "metadata": {},
   "outputs": [
    {
     "name": "stdout",
     "output_type": "stream",
     "text": [
      "File 1 done!\n",
      "File 2 done!\n",
      "File 3 done!\n",
      "File 4 done!\n",
      "File 5 done!\n",
      "File 6 done!\n",
      "File 7 done!\n",
      "File 8 done!\n",
      "File 9 done!\n",
      "File 10 done!\n",
      "File 11 done!\n",
      "File 12 done!\n",
      "File 13 done!\n",
      "File 14 done!\n",
      "File 15 done!\n",
      "File 16 done!\n",
      "File 17 done!\n",
      "File 18 done!\n",
      "File 19 done!\n",
      "File 20 done!\n",
      "File 21 done!\n",
      "File 22 done!\n",
      "File 23 done!\n",
      "File 24 done!\n",
      "File 25 done!\n",
      "File 26 done!\n",
      "File 27 done!\n",
      "File 28 done!\n",
      "File 29 done!\n",
      "File 30 done!\n",
      "File 31 done!\n",
      "File 32 done!\n",
      "File 33 done!\n",
      "File 34 done!\n",
      "File 35 done!\n",
      "File 36 done!\n",
      "File 37 done!\n",
      "File 38 done!\n",
      "File 39 done!\n",
      "File 40 done!\n",
      "File 41 done!\n"
     ]
    }
   ],
   "source": [
    "# itera per tots els fitxers i extreu les dades\n",
    "for xarxa, escenari in zip(escenaris, range(1, len(escenaris) + 1)):\n",
    "                           \n",
    "    dataset = pd.read_csv(xarxa, sep=\" \", header=None)\n",
    "    dataset.columns = [\"Time\", \"CONN\", \"Node\", \"Node2\", \"Type\"]\n",
    "    dataset.drop([\"CONN\"], axis = 1, inplace = True)\n",
    "    \n",
    "    one_file = dataset.groupby(['Node'])[\"Node2\"].size().reset_index(name ='NumCont')\n",
    "    \n",
    "    temps = dataset.groupby(['Node', 'Node2']).agg(pair_DURC = (\"Time\", mean_conn_duration), pair_ICT = (\"Time\", mean_btw_conns)).reset_index()    \n",
    "    final_attrs = temps.groupby(['Node']).agg(DURC = (\"pair_DURC\", np.mean), ICT = (\"pair_ICT\", np.mean)).reset_index()\n",
    "\n",
    "    one_file = one_file.merge(final_attrs, how = 'inner')\n",
    "    one_file[\"Escenari\"] = escenari\n",
    "    \n",
    "    final_dataset = pd.concat([one_file, final_dataset], ignore_index=True)\n",
    "\n",
    "    print(\"File\", escenari, \"done!\")"
   ]
  },
  {
   "cell_type": "code",
   "execution_count": 19,
   "id": "964af697",
   "metadata": {},
   "outputs": [
    {
     "data": {
      "text/html": [
       "<div>\n",
       "<style scoped>\n",
       "    .dataframe tbody tr th:only-of-type {\n",
       "        vertical-align: middle;\n",
       "    }\n",
       "\n",
       "    .dataframe tbody tr th {\n",
       "        vertical-align: top;\n",
       "    }\n",
       "\n",
       "    .dataframe thead th {\n",
       "        text-align: right;\n",
       "    }\n",
       "</style>\n",
       "<table border=\"1\" class=\"dataframe\">\n",
       "  <thead>\n",
       "    <tr style=\"text-align: right;\">\n",
       "      <th></th>\n",
       "      <th>Node</th>\n",
       "      <th>NumCont</th>\n",
       "      <th>DURC</th>\n",
       "      <th>ICT</th>\n",
       "      <th>Escenari</th>\n",
       "    </tr>\n",
       "  </thead>\n",
       "  <tbody>\n",
       "    <tr>\n",
       "      <th>0</th>\n",
       "      <td>0</td>\n",
       "      <td>12672</td>\n",
       "      <td>27.851217</td>\n",
       "      <td>2256.327125</td>\n",
       "      <td>41</td>\n",
       "    </tr>\n",
       "    <tr>\n",
       "      <th>1</th>\n",
       "      <td>1</td>\n",
       "      <td>11940</td>\n",
       "      <td>27.204866</td>\n",
       "      <td>2226.972516</td>\n",
       "      <td>41</td>\n",
       "    </tr>\n",
       "    <tr>\n",
       "      <th>2</th>\n",
       "      <td>2</td>\n",
       "      <td>11780</td>\n",
       "      <td>26.653695</td>\n",
       "      <td>2409.885983</td>\n",
       "      <td>41</td>\n",
       "    </tr>\n",
       "    <tr>\n",
       "      <th>3</th>\n",
       "      <td>3</td>\n",
       "      <td>12844</td>\n",
       "      <td>20.685742</td>\n",
       "      <td>2302.824219</td>\n",
       "      <td>41</td>\n",
       "    </tr>\n",
       "    <tr>\n",
       "      <th>4</th>\n",
       "      <td>4</td>\n",
       "      <td>13218</td>\n",
       "      <td>23.920808</td>\n",
       "      <td>2265.509583</td>\n",
       "      <td>41</td>\n",
       "    </tr>\n",
       "  </tbody>\n",
       "</table>\n",
       "</div>"
      ],
      "text/plain": [
       "  Node NumCont       DURC          ICT Escenari\n",
       "0    0   12672  27.851217  2256.327125       41\n",
       "1    1   11940  27.204866  2226.972516       41\n",
       "2    2   11780  26.653695  2409.885983       41\n",
       "3    3   12844  20.685742  2302.824219       41\n",
       "4    4   13218  23.920808  2265.509583       41"
      ]
     },
     "execution_count": 19,
     "metadata": {},
     "output_type": "execute_result"
    }
   ],
   "source": [
    "# comproba que tots els camps apareguin bé\n",
    "final_dataset.head()"
   ]
  },
  {
   "cell_type": "code",
   "execution_count": 23,
   "id": "647e6335",
   "metadata": {},
   "outputs": [],
   "source": [
    "# guarda el dataset complert en un fitxer a part\n",
    "final_dataset.to_csv(\"all_scenarios.csv\", encoding='utf-8', index=False)"
   ]
  }
 ],
 "metadata": {
  "kernelspec": {
   "display_name": "Python 3 (ipykernel)",
   "language": "python",
   "name": "python3"
  },
  "language_info": {
   "codemirror_mode": {
    "name": "ipython",
    "version": 3
   },
   "file_extension": ".py",
   "mimetype": "text/x-python",
   "name": "python",
   "nbconvert_exporter": "python",
   "pygments_lexer": "ipython3",
   "version": "3.10.2"
  }
 },
 "nbformat": 4,
 "nbformat_minor": 5
}
