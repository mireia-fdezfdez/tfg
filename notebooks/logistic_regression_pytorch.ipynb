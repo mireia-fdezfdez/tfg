{
 "cells": [
  {
   "cell_type": "markdown",
   "id": "4765cbe1",
   "metadata": {},
   "source": [
    "# Regresió Logística Multinomial\n",
    "Model neuronal basat en: https://en.wikipedia.org/wiki/Multinomial_logistic_regression\n",
    "\n",
    "Paleta de colors utilitzada: https://coolors.co/palette/ef476f-ffd166-06d6a0-118ab2-073b4c"
   ]
  },
  {
   "cell_type": "code",
   "execution_count": 1,
   "id": "f043c90c",
   "metadata": {},
   "outputs": [],
   "source": [
    "# dependencies\n",
    "import pandas as pd\n",
    "import numpy as np\n",
    "import time\n",
    "import copy\n",
    "import pickle\n",
    "\n",
    "import matplotlib.pyplot as plt\n",
    "import seaborn as sns\n",
    "sns.set(style=\"whitegrid\")\n",
    "\n",
    "import torch\n",
    "import torch.nn as nn\n",
    "import torch.optim as optim\n",
    "from torch.utils.data import Dataset, DataLoader, random_split"
   ]
  },
  {
   "cell_type": "markdown",
   "id": "a7494ddd",
   "metadata": {},
   "source": [
    "#### Dataset\n",
    "***"
   ]
  },
  {
   "cell_type": "code",
   "execution_count": 2,
   "id": "bd3f9532",
   "metadata": {},
   "outputs": [],
   "source": [
    "class DatasetEscenaris(Dataset):\n",
    "    \"\"\"Classe que gestiona les dades tabulars tal que es puguin\n",
    "    utilitzar en models pytorch còmodament.\"\"\"\n",
    "\n",
    "    def __init__(self, fitxer):\n",
    "        self.dades = pd.read_csv(fitxer)\n",
    "        self.objectiu = \"Escenari\"\n",
    "\n",
    "        self.X = self.dades.drop([\"Node\", self.objectiu], axis=1)\n",
    "        self.y = self.dades[self.objectiu]\n",
    "\n",
    "    def __len__(self):\n",
    "        return len(self.X)\n",
    "\n",
    "    def __getitem__(self, idx):\n",
    "        if isinstance(idx, torch.Tensor):\n",
    "            idx = idx.tolist()\n",
    "\n",
    "        return [self.X.iloc[idx].values, self.y[idx]]\n",
    "    "
   ]
  },
  {
   "cell_type": "markdown",
   "id": "a9eb9179",
   "metadata": {},
   "source": [
    "#### Model de Regresió Logística Multinomial\n",
    "***"
   ]
  },
  {
   "cell_type": "code",
   "execution_count": 3,
   "id": "3d14e0c5",
   "metadata": {},
   "outputs": [],
   "source": [
    "class LR_MN_Model(nn.Module):\n",
    "    def __init__(self, input_size):\n",
    "        super(LR_MN_Model, self).__init__()\n",
    "        self.linear = nn.Linear(input_size, 42, bias=True)\n",
    "        self.softmax = nn.Softmax(dim=1) # funcio sortida per a regresions logístiques multinomials\n",
    "    \n",
    "    def forward(self, x):\n",
    "        return self.softmax(self.linear(x))  \n",
    "    "
   ]
  },
  {
   "cell_type": "markdown",
   "id": "49f1fc0d",
   "metadata": {},
   "source": [
    "#### Entrenament\n",
    "***"
   ]
  },
  {
   "cell_type": "code",
   "execution_count": 4,
   "id": "1e9f0e82",
   "metadata": {},
   "outputs": [
    {
     "name": "stdout",
     "output_type": "stream",
     "text": [
      "Dades entrenament: (19866, 4)\n",
      "Etiqs entrenament: (19866, 1)\n",
      "Etiqs entrenament multiclasse: (19866, 42)\n",
      "Dades validació: (4362, 4)\n",
      "Etiqs validació: (4362, 1)\n",
      "Etiqs validació multiclasse: (4362, 42)\n"
     ]
    }
   ],
   "source": [
    "# Inicialitzar i carregar les dades\n",
    "entrenament = DatasetEscenaris(\"all_scenarios_train.csv\") # train set\n",
    "validacio = DatasetEscenaris(\"all_scenarios_test.csv\")    # test set\n",
    "\n",
    "X_entrenament = entrenament.X \n",
    "y_entrenament = entrenament.y\n",
    "\n",
    "X_validacio = validacio.X     \n",
    "y_validacio = validacio.y\n",
    "\n",
    "# Separació per a fer la classificacio multicalsse: 41 escenaris \n",
    "y_entrenament_mc = np.zeros((y_entrenament.size, 42))\n",
    "y_entrenament_mc[np.arange(y_entrenament.size), y_entrenament] = 1\n",
    "\n",
    "y_validacio_mc = np.zeros((y_validacio.size, 42))\n",
    "y_validacio_mc[np.arange(y_validacio.size), y_validacio] = 1\n",
    "\n",
    "y_entrenament = np.array(y_entrenament)[:, np.newaxis]\n",
    "y_validacio = np.array(y_validacio)[:, np.newaxis]\n",
    "\n",
    "print('Dades entrenament:', X_entrenament.shape)\n",
    "print('Etiqs entrenament:', y_entrenament.shape)\n",
    "print('Etiqs entrenament multiclasse:', y_entrenament_mc.shape)\n",
    "print('Dades validació:', X_validacio.shape)\n",
    "print('Etiqs validació:', y_validacio.shape)\n",
    "print('Etiqs validació multiclasse:', y_validacio_mc.shape)"
   ]
  },
  {
   "cell_type": "code",
   "execution_count": 5,
   "id": "f78cc2bb",
   "metadata": {},
   "outputs": [],
   "source": [
    "# Definició de paràmetres\n",
    "n_epoques = 15\n",
    "model = LR_MN_Model(X_entrenament.shape[1])\n",
    "criteri = nn.CrossEntropyLoss()\n",
    "optimitzador = torch.optim.Adam(model.parameters(), weight_decay=1)\n",
    "historial_precisions = [] \n",
    "historial_perdues = []"
   ]
  },
  {
   "cell_type": "code",
   "execution_count": 6,
   "id": "13ff650b",
   "metadata": {
    "scrolled": false
   },
   "outputs": [
    {
     "name": "stdout",
     "output_type": "stream",
     "text": [
      "Època 0/14\n",
      "----------\n",
      "perdua: 3.7308 precisió: 95.515424% \n",
      "\n",
      "Època 1/14\n",
      "----------\n",
      "perdua: 3.7464 precisió: 95.515424% \n",
      "\n",
      "Època 2/14\n",
      "----------\n",
      "perdua: 3.6996 precisió: 95.515501% \n",
      "\n",
      "Època 3/14\n",
      "----------\n",
      "perdua: 3.7153 precisió: 95.515800% \n",
      "\n",
      "Època 4/14\n",
      "----------\n",
      "perdua: 3.7150 precisió: 95.515555% \n",
      "\n",
      "Època 5/14\n",
      "----------\n",
      "perdua: 3.7309 precisió: 95.515555% \n",
      "\n",
      "Època 6/14\n",
      "----------\n",
      "perdua: 3.7620 precisió: 95.515674% \n",
      "\n",
      "Època 7/14\n",
      "----------\n",
      "perdua: 3.7621 precisió: 95.515960% \n",
      "\n",
      "Època 8/14\n",
      "----------\n",
      "perdua: 3.7150 precisió: 95.516300% \n",
      "\n",
      "Època 9/14\n",
      "----------\n",
      "perdua: 3.6996 precisió: 95.516437% \n",
      "\n",
      "Època 10/14\n",
      "----------\n",
      "perdua: 3.6840 precisió: 95.516473% \n",
      "\n",
      "Època 11/14\n",
      "----------\n",
      "perdua: 3.7308 precisió: 95.516437% \n",
      "\n",
      "Època 12/14\n",
      "----------\n",
      "perdua: 3.6683 precisió: 95.516354% \n",
      "\n",
      "Època 13/14\n",
      "----------\n",
      "perdua: 3.6684 precisió: 95.515859% \n",
      "\n",
      "Època 14/14\n",
      "----------\n",
      "perdua: 3.7621 precisió: 95.515555% \n",
      "\n",
      "Entrenament completat en 0.000000m 0.250311s\n",
      "Millor precisió: 95.516473%\n"
     ]
    }
   ],
   "source": [
    "# Cos de l'entrenament\n",
    "inici = time.time()\n",
    "millor_precisio = 0.0\n",
    "pesos_millor_model = copy.deepcopy(model.state_dict())\n",
    "\n",
    "for epoca in range(n_epoques):\n",
    "    print(\"Època \" + str(epoca) + \"/\" + str(n_epoques - 1))\n",
    "    print('-' * 10)\n",
    "        \n",
    "    # batch aleatori\n",
    "    rbatch = np.random.choice(y_entrenament.size, size=64)  # size = batch\n",
    "    \n",
    "    # Inicialitzem les dades d'aquesta epoca segons el batch aleatori escollit\n",
    "    X_entr = torch.autograd.Variable(torch.FloatTensor(X_entrenament.values[rbatch]))\n",
    "    y_entr = torch.autograd.Variable(torch.FloatTensor(y_entrenament_mc[rbatch]))\n",
    "    # training, metrics and storage\n",
    "    optimitzador.zero_grad()\n",
    "    \n",
    "    outputs = model(X_entr)\n",
    "    perdua = criteri(outputs, y_entr)\n",
    "    perdua.backward()\n",
    "    optimitzador.step()\n",
    "\n",
    "    X_val = torch.autograd.Variable(torch.FloatTensor(X_validacio.values))\n",
    "    y_val = torch.autograd.Variable(torch.FloatTensor(y_validacio_mc))\n",
    "\n",
    "    perdua_epoca = perdua.detach().numpy()\n",
    "    precisio_epoca = torch.mean(1 - torch.abs(y_val - model(X_val))).detach().numpy()*100\n",
    "    \n",
    "    # copia profunda del model amb els millors resultats\n",
    "    if precisio_epoca > millor_precisio:\n",
    "        millor_precisio = precisio_epoca\n",
    "        pesos_millor_model = copy.deepcopy(model.state_dict())\n",
    "\n",
    "    historial_perdues.append(perdua_epoca)\n",
    "    historial_precisions.append(precisio_epoca)\n",
    "    \n",
    "    print('perdua: {:.4f} precisió: {:.6f}% \\n'.format(perdua_epoca, precisio_epoca))\n",
    "    \n",
    "temps_total = time.time() - inici\n",
    "print(\"Entrenament completat en {:.6f}m {:.6f}s\".format(temps_total // 60, temps_total % 60))\n",
    "print(\"Millor precisió: {:.6f}%\".format(millor_precisio))"
   ]
  },
  {
   "cell_type": "code",
   "execution_count": 13,
   "id": "280d8b0a",
   "metadata": {},
   "outputs": [
    {
     "data": {
      "image/png": "[encoded data removed]",
      "text/plain": [
       "<Figure size 1000x400 with 2 Axes>"
      ]
     },
     "metadata": {},
     "output_type": "display_data"
    }
   ],
   "source": [
    "# comparació de solucionadors en les dades originals vs les estandaritzades\n",
    "fig, axs = plt.subplots(1, 2, figsize=(10, 4))\n",
    "\n",
    "axs[0].plot(historial_perdues, \"o-\", color = \"#EF476F\")\n",
    "axs[0].set_title('Pèrdues')\n",
    "\n",
    "axs[1].plot(historial_precisions, \"o-\", color = \"#118AB2\")\n",
    "axs[1].set_title('Precisió')\n",
    "axs[1].set_yticks([95.50, 95.51, 95.52, 95.53, 95.54])\n",
    "\n",
    "fig.suptitle(\"Evolució de les mètriques del model per època\", fontsize=16)\n",
    "fig.tight_layout()\n",
    "plt.show()"
   ]
  },
  {
   "cell_type": "code",
   "execution_count": 8,
   "id": "c098b7f8",
   "metadata": {
    "scrolled": true
   },
   "outputs": [],
   "source": [
    "# Guardar el model trobat per a usos posteriors\n",
    "filename = 'reg_log_multinom_pytorch.sav'\n",
    "pickle.dump(model, open(\"Models/\"+filename, 'wb'))"
   ]
  },
  {
   "cell_type": "code",
   "execution_count": null,
   "id": "4f6af0d3",
   "metadata": {},
   "outputs": [],
   "source": []
  }
 ],
 "metadata": {
  "kernelspec": {
   "display_name": "Python 3 (ipykernel)",
   "language": "python",
   "name": "python3"
  },
  "language_info": {
   "codemirror_mode": {
    "name": "ipython",
    "version": 3
   },
   "file_extension": ".py",
   "mimetype": "text/x-python",
   "name": "python",
   "nbconvert_exporter": "python",
   "pygments_lexer": "ipython3",
   "version": "3.10.2"
  }
 },
 "nbformat": 4,
 "nbformat_minor": 5
}
